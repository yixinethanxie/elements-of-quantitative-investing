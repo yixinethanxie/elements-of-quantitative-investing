{
 "cells": [
  {
   "cell_type": "markdown",
   "id": "c232f65b-2898-4b50-9973-0872ae089c13",
   "metadata": {},
   "source": [
    "# Chapter 4 exercise solutions\n",
    "\n",
    "Solutions to exercise 4.1 and 4.2 are included in the chapter_4 notebook\n",
    "\n",
    "## Exercise 4.3\n",
    "\n",
    "### 1. \n",
    "Assume that $x$ has zero mean, otherwise, center it by subtracting the means from $x$.\n",
    "$$\\Omega = xx^T$$\n",
    "$$Cov(Ax) = Axx^TA^T = A\\Omega A^T$$\n",
    "\n",
    "### 2. \n",
    "$$Cov(\\xi) = \\xi\\xi^T = I$$\n",
    "$$Cov(\\Omega^{1/2}\\xi) = \\Omega^{1/2}\\xi\\xi^T{\\Omega^{1/2}}^T = U\\Lambda^{1/2}U^TIU\\Lambda^{1/2}U^T=U\\Lambda U^T = \\Omega$$\n",
    "\n",
    "## Excercise 4.4\n",
    "\n",
    "Assume we have 2 assets, 1 factor and the loading matrix $B=(1,2)^T$. \n",
    "For there to be a transformation, the unit vector must be in the subspace spanned by the columns of loading matrix $B$, i.e. there exists a vector (scalar in this case) $a$ such that $e=Ba$ or in this case $1=Ba$.\n",
    "In this case where $B=(1,2)^T$, such scalar $a$ doesn't exist and therefore we can't center the loading matrix with rotation."
   ]
  },
  {
   "cell_type": "code",
   "execution_count": null,
   "id": "afc46062-5120-4f40-992d-da906cd2da56",
   "metadata": {},
   "outputs": [],
   "source": []
  }
 ],
 "metadata": {
  "kernelspec": {
   "display_name": "Python 3 (ipykernel)",
   "language": "python",
   "name": "python3"
  },
  "language_info": {
   "codemirror_mode": {
    "name": "ipython",
    "version": 3
   },
   "file_extension": ".py",
   "mimetype": "text/x-python",
   "name": "python",
   "nbconvert_exporter": "python",
   "pygments_lexer": "ipython3",
   "version": "3.11.13"
  }
 },
 "nbformat": 4,
 "nbformat_minor": 5
}
