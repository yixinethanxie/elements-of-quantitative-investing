{
 "cells": [
  {
   "cell_type": "markdown",
   "id": "6b71312f-50c6-4806-886f-4049b96f0e19",
   "metadata": {},
   "source": [
    "# Chapter 4 - Linear Models of Returns\n",
    "\n",
    "## 4.1 Factor model\n",
    "\n",
    "$$\\mathbf{r}_t = \\mathbf{\\alpha} + \\mathbf{B}\\mathbf{f}_t + \\mathbf{\\epsilon}_t$$\n",
    "\n",
    "- $\\mathbf{r}_t$: asset returns at time t\n",
    "- $\\mathbf{B}$: factor loading, mapping from factor returns to asset returns\n",
    "- $\\mathbf{f}_t$: factor returns at time t\n",
    "- $\\mathbf{\\epsilon}_t$: idiosyncratic returns at t\n",
    "\n",
    "Given the factor model, the variance of returns is:\n",
    "\n",
    "$$\\mathbf{\\Omega_r} = \\mathbf{B{\\Omega_f}B}^T + \\mathbf{\\Omega_\\epsilon}$$\n",
    "\n",
    "## 4.2 Interpretations\n",
    "\n",
    "### 4.2.1 Graphical Model\n",
    "\n",
    "$$E\\left(r_i - \\alpha_i | f\\right) = \\sum_j \\mathbf{[B]}_{i,j}f_j$$\n",
    "\n",
    "Each asset return, in excess of alpha, is a linear combination of factor returns. \n",
    "\n",
    "$$E\\left(r_i - \\alpha_i | f\\right) = \\mathbf{B}_i \\cdot \\mathbf{f}$$\n",
    "\n",
    "### 4.2.2 Superposition of Effects\n",
    "\n",
    "$$E\\left(\\mathbf{r} - \\mathbf{\\alpha} | \\mathbf{f}\\right) = \\sum_j \\mathbf{[B]}_{\\cdot,j}f_j$$\n",
    "\n",
    "Asset return is an overlap of influences from the loading matrix weighted by the factor returns. \n",
    "\n",
    "### 4.2.3 Single-Asset Product\n",
    "\n",
    "This is similar to the second equation from 4.2.1, this is used in performance attribution, more on this later.\n",
    "\n",
    "## 4.3 Alpha spanned and orthogonal\n",
    "\n",
    "The concept is to decompose the alpha term in the factor model into orthogonal and spanned (in loading matrix B's column subspace, e.g. some linear combinations of B's columns). Some linear combination of B's columns is the defination of factor models, so spanned alpha is really just part of the expected returns of factors. On the other hand, the orthogonal alpha is not in B's column subspace and thus has the following relationship with the sharpe ratio:\n",
    "\n",
    "$$SR = \\frac{E(w^Tr_t)}{\\sqrt{var(w^Tr_t)}} \\geq \\frac{||\\alpha_\\perp||}{\\sqrt{||\\Omega_\\epsilon||}} \\geq \\sqrt{n}\\frac{\\mu}{\\sqrt{||\\Omega_\\epsilon||}}$$\n",
    "$$w = \\frac{\\alpha_\\perp}{||\\alpha_\\perp||}$$\n",
    "\n",
    "This suggests that additionl orthogonal alpha increases the overall sharpe ratio, which makes it very valuable. But most of the time, the alpha is spanned, so it comes with systematic risks that can't be diversified away."
   ]
  },
  {
   "cell_type": "code",
   "execution_count": null,
   "id": "5f3e74d2-396b-430f-8b68-4f7dff8c2116",
   "metadata": {},
   "outputs": [],
   "source": []
  }
 ],
 "metadata": {
  "kernelspec": {
   "display_name": "Python 3 (ipykernel)",
   "language": "python",
   "name": "python3"
  },
  "language_info": {
   "codemirror_mode": {
    "name": "ipython",
    "version": 3
   },
   "file_extension": ".py",
   "mimetype": "text/x-python",
   "name": "python",
   "nbconvert_exporter": "python",
   "pygments_lexer": "ipython3",
   "version": "3.11.13"
  }
 },
 "nbformat": 4,
 "nbformat_minor": 5
}
