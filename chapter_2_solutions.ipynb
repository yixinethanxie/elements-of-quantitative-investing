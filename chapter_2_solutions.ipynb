{
 "cells": [
  {
   "cell_type": "markdown",
   "id": "58862c10-7f7e-4722-99ea-6e2e32fe1609",
   "metadata": {},
   "source": [
    "# Chapter 2 exercise solutions"
   ]
  },
  {
   "cell_type": "markdown",
   "id": "fa58eda8-0720-452c-bf1a-3c2b987fe4db",
   "metadata": {},
   "source": [
    "## Exercise 2.1\n",
    "\n",
    "The inequality can be rearranged to:\n",
    "\n",
    "$$\\prod_{t=1}^{T}{(1+r_t)}^{1/T} \\leq \\sum_{t=1}^T \\frac{1}{T} (1+r_t)$$\n",
    "\n",
    "Taking log on both sides, the inequality holds:\n",
    "\n",
    "$$\\sum_{t=1}^T \\frac{1}{T}\\log{(1+r_t)} \\leq \\log{\\sum_{t=1}^T \\frac{1}{T} (1+r_t)}$$\n",
    "\n",
    "Let $f(x) = \\log(x)$ and $x_t = (1+r_t)$, the inequality becomes:\n",
    "\n",
    "$$\\sum_{t=1}^T \\frac{1}{T}f(x_t) \\leq f\\left({\\sum_{t=1}^T \\frac{1}{T} x_t}\\right)$$\n",
    "\n",
    "Since $\\log$ is a concave function, the above inequality holds due to Jensen Inequality."
   ]
  },
  {
   "cell_type": "markdown",
   "id": "6754ecec-e693-4c26-a195-93b2b7c5c6df",
   "metadata": {},
   "source": [
    "## Exercise 2.2\n",
    "\n",
    "$$y = x^2, x \\sim N(0, 1)$$\n",
    "\n",
    "$$E(x) = 0, Var(x) = 1$$\n",
    "$$E(x^3) = E^3(x) + 3E(x)Var(x) = 0$$\n",
    "$$E(y) = E(x^2) = 1$$\n",
    "\n",
    "$$cov(x, y) = E(xy) - E(x)E(y) = E(xy) = E(x^3) = 0$$\n",
    "\n",
    "Therefore, $x$ and $y$ are fully dependent with deterministic relationship while uncorrelated due to the non-linearity."
   ]
  },
  {
   "cell_type": "markdown",
   "id": "5e729938-f94b-4017-bc59-e8601de8cf72",
   "metadata": {},
   "source": [
    "## Exercise 2.3\n",
    "\n",
    "$$y = zx$$\n",
    "$$x \\sim N(0, 1)$$\n",
    "$$P(z) = \n",
    "\\begin{cases}\n",
    "1/2, z=1\\\\\n",
    "1/2, z=-1\\\\\n",
    "\\end{cases}$$\n",
    "$$cov(x, z) = 0$$\n",
    "\n",
    "$$cov(x, y) = E(xy) - E(x)E(y) = E(zx^2) = E(z)E(x^2) = 0$$\n",
    "\n",
    "The third equality is because $x^2$ and $z$ are independent:\n",
    "\n",
    "$$E(E(zx^2|x))=E(x^2E(z|x))=E(x^2E(z))=E(x^2)E(z)$$\n",
    "\n",
    "The fourth equality is because $E(z) = 0$\n",
    "\n",
    "Therefore, $x$ and $y$ are uncorrelated, but $y$ is semi-dependent on $x$ as $|y|=|x|$"
   ]
  },
  {
   "cell_type": "markdown",
   "id": "c3d15f92-8777-45ac-a10b-6a45abb67805",
   "metadata": {},
   "source": [
    "# Exercise 2.4\n",
    "\n",
    "Since $log$ is concave:\n",
    "\n",
    "$$E\\left[\\log\\left(\\beta_1+ \\alpha_1\\epsilon^2_0\\right)\\right] \\leq \\log\\left[E\\left(\\beta_1+ \\alpha_1\\epsilon^2_0\\right)\\right]$$\n",
    "\n",
    "Then the RHS becomes:\n",
    "$$\\log\\left[\\beta_1 + \\alpha_1 E(\\epsilon^2_0)\\right] = \\log(\\beta_1 + \\alpha_1) < 0$$\n",
    "\n",
    "The last inequality is because $\\alpha_1 + \\beta_1 < 1$"
   ]
  },
  {
   "cell_type": "code",
   "execution_count": null,
   "id": "64193e6f-d751-4af0-adc9-cce791f148a3",
   "metadata": {},
   "outputs": [],
   "source": []
  }
 ],
 "metadata": {
  "kernelspec": {
   "display_name": "Python 3 (ipykernel)",
   "language": "python",
   "name": "python3"
  },
  "language_info": {
   "codemirror_mode": {
    "name": "ipython",
    "version": 3
   },
   "file_extension": ".py",
   "mimetype": "text/x-python",
   "name": "python",
   "nbconvert_exporter": "python",
   "pygments_lexer": "ipython3",
   "version": "3.11.13"
  }
 },
 "nbformat": 4,
 "nbformat_minor": 5
}
