{
 "cells": [
  {
   "cell_type": "markdown",
   "id": "08b3210f-9c94-4f64-9a86-f1bba707f3f5",
   "metadata": {},
   "source": [
    "# Chapter 3 - Performance\n",
    "\n",
    "## Cantelli inequality\n",
    "\n",
    "A one-sided version of Chebychev inequality (two-sided): given mean and variance, what's the upper limit of the probability that the random variable is X amount below the mean.\n",
    "\n",
    "$$P(\\xi \\lt -L\\sigma) \\leq \\frac{1}{1+{(L+SR)}^2}$$\n",
    "\n",
    "Translation: what's the probability that the loss is more than L standard deviations? \n",
    "\n",
    "For example, if the annualized Sharpe ratio is 3 and annualized volatility is 50M USD, the probability of losing more than 100M USD is 3.9%, which is much higher than the tail probability estimated by normal distribution. This is good!\n",
    "\n",
    "## Sharpe ratio confidence interval\n",
    "\n",
    "### case 1: unknown return and unknown volatility\n",
    "\n",
    "$$SE(\\hat{SR}) = \\sqrt{\\frac{1+SR^2/2}{T}}$$\n",
    "\n",
    "### case 2: unknown return and known volatility\n",
    "\n",
    "$$SE(\\hat{SR}) = \\sqrt{\\frac{1}{T}}$$\n",
    "\n",
    "Case 1 is more common as it's not practical to know volatility beforehand (maybe easier with volatility targeting). So if the annualized Sharpe ratio is 3 given a track record of 2 years, the standard error of sharpe ratio is 1.66, so the 90% confidence interval is (0.26, 5.74). The sharpe ratio is more accurate with longer track record for both cases.\n",
    "\n",
    "The above case assumes no autocorrelation, if there is autocorrelation in returns:\n",
    "\n",
    "$$cor(r_s, r_t) = \\rho^{|t-s|}$$\n",
    "$$SE(\\hat{SR}) = \\frac{\\hat{\\mu}}{\\hat{\\sigma}} \\sqrt{\\frac{1-\\rho}{1+\\rho}} \n",
    "    \\simeq \\frac{\\hat{\\mu}}{\\hat{\\sigma}} (1-\\rho)$$\n",
    "\n",
    "This makes sense as the sharpe ratio should be penalize for autocorrelation.\n",
    "\n",
    "## Capacity\n",
    "\n",
    "In practice, Sharpe drops as volatility (leverage increases. We need to find the maximum volatility (capacity) of the strategy given a minimum Sharpe threshold.\n",
    "\n",
    "## Other keys points\n",
    "\n",
    "- Volaility is used as a risk measure because variance is finite as the tail index for financial time series is greater than 2 (distribution has at least 1st and 2nd moments).\n",
    "- Sharpe ratio: doesn't make sense for negative returns, e.g. with the same negative returns, the less volatile strategy (lower vol.) is ranked lower than the high vol. strat. Volatility probably doesn't matter much as the strategy isn't profitable in the first place."
   ]
  },
  {
   "cell_type": "code",
   "execution_count": null,
   "id": "2ebf10bf-d228-45ec-88df-75ebd8ca5e42",
   "metadata": {},
   "outputs": [],
   "source": []
  },
  {
   "cell_type": "code",
   "execution_count": null,
   "id": "9b993547-b0c5-4c3f-b918-28602141d56a",
   "metadata": {},
   "outputs": [],
   "source": []
  }
 ],
 "metadata": {
  "kernelspec": {
   "display_name": "Python 3 (ipykernel)",
   "language": "python",
   "name": "python3"
  },
  "language_info": {
   "codemirror_mode": {
    "name": "ipython",
    "version": 3
   },
   "file_extension": ".py",
   "mimetype": "text/x-python",
   "name": "python",
   "nbconvert_exporter": "python",
   "pygments_lexer": "ipython3",
   "version": "3.11.13"
  }
 },
 "nbformat": 4,
 "nbformat_minor": 5
}
